{
 "cells": [
  {
   "cell_type": "code",
   "execution_count": 2,
   "metadata": {},
   "outputs": [
    {
     "name": "stdout",
     "output_type": "stream",
     "text": [
      "{'axi_dma_0': {'phys_addr': 1077936128, 'addr_range': 65536, 'type': 'xilinx.com:ip:axi_dma:7.1', 'state': None, 'interrupts': {'mm2s_introut': {'controller': 'axi_intc_0', 'index': 0, 'fullpath': 'axi_dma_0/mm2s_introut'}, 's2mm_introut': {'controller': 'axi_intc_0', 'index': 1, 'fullpath': 'axi_dma_0/s2mm_introut'}}, 'gpio': {}, 'fullpath': 'axi_dma_0', 'driver': <class 'pynq.lib.dma.DMA'>}, 'axi_intc_0': {'phys_addr': 1098907648, 'addr_range': 65536, 'type': 'xilinx.com:ip:axi_intc:4.1', 'state': None, 'interrupts': {}, 'gpio': {}, 'fullpath': 'axi_intc_0', 'driver': <class 'pynq.overlay.DefaultIP'>}, 'img_convolution_0': {'phys_addr': 1136656384, 'addr_range': 65536, 'type': 'xilinx.com:hls:img_convolution:1.0', 'state': None, 'interrupts': {}, 'gpio': {}, 'fullpath': 'img_convolution_0', 'driver': <class 'pynq.overlay.DefaultIP'>}}\n",
      "Convolution time 0.241963469000 seconds\n",
      "[ 0.  0.  0. ...,  0.  0.  0.]\n"
     ]
    },
    {
     "data": {
      "text/plain": [
       "True"
      ]
     },
     "execution_count": 2,
     "metadata": {},
     "output_type": "execute_result"
    }
   ],
   "source": [
    "from pynq import Overlay\n",
    "from pynq import Xlnk\n",
    "import numpy as np\n",
    "from pynq import MMIO\n",
    "import time\n",
    "import cv2\n",
    "\n",
    "IMG_ROWS            = 360\n",
    "IMG_COLS            = 640\n",
    "\n",
    "ol = Overlay(\"/home/xilinx/pynq/overlays/hls_test/convolution/convolution_backup.bit\")\n",
    "ol.download()\n",
    "print(ol.ip_dict)\n",
    "xlnk = Xlnk()\n",
    "dma_ip = ol.axi_dma_0\n",
    "dma_addr = ol.ip_dict[\"axi_dma_0\"][\"phys_addr\"]\n",
    "\n",
    "CTRL_BASE_ADDR  = 0x43C00000\n",
    "CTRL_ADDR_RANGE = 0x10000\n",
    "ctrl_bus_mmio = MMIO(CTRL_BASE_ADDR, CTRL_ADDR_RANGE)\n",
    "\n",
    "########################\n",
    "#convolution\n",
    "########################\n",
    "image = cv2.imread(\"000001.jpg\")\n",
    "gray_image_temp = cv2.cvtColor(image, cv2.COLOR_BGR2GRAY)\n",
    "gray_image = cv2.resize(gray_image_temp,(IMG_COLS, IMG_ROWS), interpolation = cv2.INTER_AREA )\n",
    "im_data = np.array(gray_image)\n",
    "im_data_flat = im_data.flatten()\n",
    "\n",
    "N = IMG_ROWS*IMG_COLS\n",
    "input_buffer = xlnk.cma_array(shape=(N,), dtype=np.float32)\n",
    "output_buffer = xlnk.cma_array(shape=((N),), dtype=np.float32)\n",
    "\n",
    "for i in range(N) :\n",
    "    input_buffer[i] = im_data_flat[i]\n",
    "    \n",
    "    \n",
    "timer_start = time.perf_counter();\n",
    "ctrl_bus_mmio.write(0,1) #start the convolution kernel\n",
    "dma_ip.sendchannel.transfer(input_buffer)\n",
    "dma_ip.recvchannel.transfer(output_buffer)\n",
    "dma_ip.sendchannel.wait()\n",
    "dma_ip.recvchannel.wait()\n",
    "timer_end = time.perf_counter();\n",
    "conv_time = timer_end - timer_start\n",
    "print(\"Convolution time {:.12f} seconds\".format(conv_time))\n",
    "while( (ctrl_bus_mmio.read(0) & 2) == 0) :  #check if output is ready\n",
    "    print(\"waiting\")\n",
    "print(output_buffer)\n",
    "\n",
    "out_arry = np.empty(shape=(IMG_ROWS,IMG_COLS),dtype=np.float32)\n",
    "for i in range(IMG_ROWS):\n",
    "    for j in range(IMG_COLS):\n",
    "        out_arry[i][j] = output_buffer[IMG_COLS*i + j]\n",
    "cv2.imwrite(\"output_img.jpg\", out_arry)\n",
    "\n",
    "#for i in range(IMG_ROWS):\n",
    "#    for j in range(IMG_COLS):\n",
    "#        out_arry[i][j] = output_buffer[(IMG_ROWS*IMG_COLS) + IMG_COLS*i + j]\n",
    "#cv2.imwrite(\"output_img_2.jpg\", out_arry)"
   ]
  },
  {
   "cell_type": "code",
   "execution_count": 4,
   "metadata": {},
   "outputs": [
    {
     "name": "stdout",
     "output_type": "stream",
     "text": [
      "0\n"
     ]
    }
   ],
   "source": []
  },
  {
   "cell_type": "code",
   "execution_count": 7,
   "metadata": {},
   "outputs": [
    {
     "name": "stdout",
     "output_type": "stream",
     "text": [
      "1996\n"
     ]
    }
   ],
   "source": []
  },
  {
   "cell_type": "code",
   "execution_count": null,
   "metadata": {
    "collapsed": true
   },
   "outputs": [],
   "source": []
  }
 ],
 "metadata": {
  "kernelspec": {
   "display_name": "Python 3",
   "language": "python",
   "name": "python3"
  },
  "language_info": {
   "codemirror_mode": {
    "name": "ipython",
    "version": 3
   },
   "file_extension": ".py",
   "mimetype": "text/x-python",
   "name": "python",
   "nbconvert_exporter": "python",
   "pygments_lexer": "ipython3",
   "version": "3.6.0"
  }
 },
 "nbformat": 4,
 "nbformat_minor": 2
}
