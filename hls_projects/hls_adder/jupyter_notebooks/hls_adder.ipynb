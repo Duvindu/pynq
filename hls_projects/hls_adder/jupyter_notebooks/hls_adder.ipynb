{
 "cells": [
  {
   "cell_type": "code",
   "execution_count": 3,
   "metadata": {},
   "outputs": [
    {
     "name": "stdout",
     "output_type": "stream",
     "text": [
      "15\n",
      "7\n"
     ]
    }
   ],
   "source": [
    "#==============================================================\n",
    "\n",
    "#data\n",
    "#0x00 : Control signals\n",
    "#       bit 0  - ap_start (Read/Write/SC)\n",
    "#       bit 1  - ap_done (Read/COR)\n",
    "#       bit 2  - ap_idle (Read)\n",
    "#       bit 3  - ap_ready (Read)\n",
    "#       bit 7  - auto_restart (Read/Write)\n",
    "#       others - reserved\n",
    "#0x04 : Global Interrupt Enable Register\n",
    "#       bit 0  - Global Interrupt Enable (Read/Write)\n",
    "#       others - reserved\n",
    "#0x08 : IP Interrupt Enable Register (Read/Write)\n",
    "#       bit 0  - Channel 0 (ap_done)\n",
    "#       others - reserved\n",
    "#0x0c : IP Interrupt Status Register (Read/TOW)\n",
    "#       bit 0  - Channel 0 (ap_done)\n",
    "#       others - reserved\n",
    "#0x10 : Data signal of ap_return\n",
    "#       bit 31~0 - ap_return[31:0] (Read)\n",
    "#0x18 : Data signal of a\n",
    "#       bit 31~0 - a[31:0] (Read/Write)\n",
    "#0x1c : reserved\n",
    "#0x20 : Data signal of b\n",
    "#       bit 31~0 - b[31:0] (Read/Write)\n",
    "#0x24 : reserved\n",
    "#(SC = Self Clear, COR = Clear on Read, TOW = Toggle on Write, COH = Clear on Handshake)\n",
    "\n",
    "ADDER_BASE_ADDR  = 0x43C00000\n",
    "ADDER_ADDR_RANGE = 0x10000\n",
    "\n",
    "XHLS_ADD_DATA_ADDR_AP_CTRL   = 0x00\n",
    "XHLS_ADD_DATA_ADDR_GIE       = 0x04\n",
    "XHLS_ADD_DATA_ADDR_IER       = 0x08\n",
    "XHLS_ADD_DATA_ADDR_ISR       = 0x0c\n",
    "XHLS_ADD_DATA_ADDR_AP_RETURN = 0x10\n",
    "XHLS_ADD_DATA_BITS_AP_RETURN = 32\n",
    "XHLS_ADD_DATA_ADDR_A_DATA    = 0x18\n",
    "XHLS_ADD_DATA_BITS_A_DATA    = 32\n",
    "XHLS_ADD_DATA_ADDR_B_DATA    = 0x20\n",
    "XHLS_ADD_DATA_BITS_B_DATA    = 32\n",
    "\n",
    "from pynq import Overlay\n",
    "from pynq import MMIO\n",
    "\n",
    "ol = Overlay(\"/home/xilinx/pynq/overlays/hls_test/adder/hls_adder.bit\")\n",
    "ol.download()\n",
    "\n",
    "adder_mmio = MMIO(ADDER_BASE_ADDR, ADDER_ADDR_RANGE)\n",
    "\n",
    "op_1 = 5\n",
    "op_2 = 10\n",
    "\n",
    "####################################################\n",
    "#Test Case 1\n",
    "####################################################\n",
    "adder_mmio.write(XHLS_ADD_DATA_ADDR_A_DATA, op_1)\n",
    "adder_mmio.write(XHLS_ADD_DATA_ADDR_B_DATA, op_2)\n",
    "adder_mmio.write(0,1) #start the adder\n",
    "\n",
    "while( (adder_mmio.read(XHLS_ADD_DATA_ADDR_AP_RETURN) & 2) == 0) :  #check if output is ready\n",
    "    print(\"waiting\")\n",
    "\n",
    "result = adder_mmio.read(XHLS_ADD_DATA_ADDR_AP_RETURN)\n",
    "print(result)\n",
    "\n",
    "\n",
    "####################################################\n",
    "#Test Case 2\n",
    "####################################################\n",
    "adder_mmio.write(XHLS_ADD_DATA_ADDR_A_DATA, 3)\n",
    "adder_mmio.write(XHLS_ADD_DATA_ADDR_B_DATA, 4)\n",
    "adder_mmio.write(0,1) #start the adder\n",
    "result = adder_mmio.read(XHLS_ADD_DATA_ADDR_AP_RETURN)\n",
    "print(result)\n"
   ]
  },
  {
   "cell_type": "code",
   "execution_count": null,
   "metadata": {
    "collapsed": true
   },
   "outputs": [],
   "source": []
  }
 ],
 "metadata": {
  "kernelspec": {
   "display_name": "Python 3",
   "language": "python",
   "name": "python3"
  },
  "language_info": {
   "codemirror_mode": {
    "name": "ipython",
    "version": 3
   },
   "file_extension": ".py",
   "mimetype": "text/x-python",
   "name": "python",
   "nbconvert_exporter": "python",
   "pygments_lexer": "ipython3",
   "version": "3.6.0"
  }
 },
 "nbformat": 4,
 "nbformat_minor": 2
}
